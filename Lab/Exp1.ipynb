{
 "cells": [
  {
   "cell_type": "markdown",
   "metadata": {},
   "source": [
    "# Find -S Algorithm"
   ]
  },
  {
   "cell_type": "markdown",
   "metadata": {},
   "source": [
    "1. Initialize h to the most specific hypothesis in H\n",
    "2. For each positive training instance x\n",
    "   *  For each attribute constraint a, in h\n",
    "        ** \n",
    "      "
   ]
  },
  {
   "cell_type": "markdown",
   "metadata": {},
   "source": [
    "**Implement and demonstrate the FIND-S algorithm for finding the most specific\n",
    "hypothesis based on a given set of training data samples. Read the training data from\n",
    "a .CSV file.**"
   ]
  },
  {
   "cell_type": "code",
   "execution_count": null,
   "metadata": {},
   "outputs": [],
   "source": [
    "# Data Set\n",
    "import pandas as pd\n",
    "data = pd.read_csv('data/enjoysport.csv') \n",
    "data"
   ]
  },
  {
   "cell_type": "code",
   "execution_count": null,
   "metadata": {},
   "outputs": [],
   "source": [
    "import csv\n",
    "a = []\n",
    "\n",
    "with open('data/enjoysport.csv', 'r') as csvfile:\n",
    "    for row in csv.reader(csvfile):\n",
    "        a.append(row)\n",
    "    print(a)\n",
    "\n",
    "print(\"\\n The total number of training instances are : \",len(a)-1)\n",
    "\n",
    "num_attribute = len(a[0])-1\n",
    "\n",
    "print(\"\\n The initial hypothesis is : \")\n",
    "hypothesis = ['0']*num_attribute\n",
    "print(hypothesis)\n",
    "\n",
    "for i in range(0, len(a)):\n",
    "    if a[i][num_attribute] == 'yes':\n",
    "        for j in range(0, num_attribute):\n",
    "            if hypothesis[j] == '0' or hypothesis[j] == a[i][j]:\n",
    "                hypothesis[j] = a[i][j]\n",
    "            else:\n",
    "                hypothesis[j] = '?'\n",
    "    print(\"\\n The hypothesis for the training instance {} is : \\n\".format(i+1),hypothesis)\n",
    "\n",
    "print(\"\\n The Maximally specific hypothesis for the training instance is \")\n",
    "print(hypothesis)"
   ]
  }
 ],
 "metadata": {
  "kernelspec": {
   "display_name": "Python 3",
   "language": "python",
   "name": "python3"
  },
  "language_info": {
   "codemirror_mode": {
    "name": "ipython",
    "version": 3
   },
   "file_extension": ".py",
   "mimetype": "text/x-python",
   "name": "python",
   "nbconvert_exporter": "python",
   "pygments_lexer": "ipython3",
   "version": "3.7.2"
  }
 },
 "nbformat": 4,
 "nbformat_minor": 2
}
