{
 "cells": [
  {
   "cell_type": "markdown",
   "metadata": {},
   "source": [
    "### Program\n",
    "\n",
    "**Write a program to construct aBayesian network considering medical data. Use\n",
    "this model to demonstrate the diagnosis of heart patients using standard Heart\n",
    "Disease Data Set.**"
   ]
  },
  {
   "cell_type": "code",
   "execution_count": null,
   "metadata": {},
   "outputs": [],
   "source": [
    "import numpy as np\n",
    "import csv\n",
    "import pandas as pd\n",
    "from pgmpy.models import BayesianModel\n",
    "from pgmpy.estimators import MaximumLikelihoodEstimator\n",
    "from pgmpy.inference import VariableElimination\n",
    "\n",
    "heartDisease = pd.read_csv('heart.csv')\n",
    "heartDisease = heartDisease.replace('?',np.nan)\n",
    "\n",
    "print('Few examples from the dataset are given below')\n",
    "print(heartDisease.head())\n",
    "\n",
    "model = BayesianModel([('age','trestbps'),('age','fbs'),('sex','trestbps'),\n",
    "                       ('exang','trestbps'),('trestbps','heartdisease'),\n",
    "                       ('fbs','heartdisease'),('heartdisease','restecg'),\n",
    "                       ('heartdisease','thalach'),('heartdisease','chol')])\n",
    "\n",
    "print('\\nLearning CPD using Maximum likelihood estimators')\n",
    "model.fit(heartDisease,estimator=MaximumLikelihoodEstimator)\n",
    "\n",
    "print('\\n Inferencing with Bayesian Network:')\n",
    "HeartDisease_infer = VariableElimination(model)\n",
    "\n",
    "print('\\n 1. Probability of HeartDisease given Age=28')\n",
    "q=HeartDisease_infer.query(variables=['heartdisease'],evidence={'age':28})\n",
    "print(q['heartdisease'])\n",
    "\n",
    "print('\\n 2. Probability of HeartDisease given cholesterol=100')\n",
    "q=HeartDisease_infer.query(variables=['heartdisease'],evidence={'chol':100})\n",
    "print(q['heartdisease'])"
   ]
  }
 ],
 "metadata": {
  "kernelspec": {
   "display_name": "Python 3",
   "language": "python",
   "name": "python3"
  },
  "language_info": {
   "codemirror_mode": {
    "name": "ipython",
    "version": 3
   },
   "file_extension": ".py",
   "mimetype": "text/x-python",
   "name": "python",
   "nbconvert_exporter": "python",
   "pygments_lexer": "ipython3",
   "version": "3.7.2"
  }
 },
 "nbformat": 4,
 "nbformat_minor": 2
}
