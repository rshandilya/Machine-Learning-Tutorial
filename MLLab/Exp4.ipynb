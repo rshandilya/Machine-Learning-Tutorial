{
 "cells": [
  {
   "cell_type": "markdown",
   "metadata": {},
   "source": [
    "### Program\n",
    "\n",
    "**Build an Artificial Neural Network by implementing the Backpropagation\n",
    "algorithm and test the same using appropriate data sets**"
   ]
  },
  {
   "cell_type": "code",
   "execution_count": null,
   "metadata": {},
   "outputs": [],
   "source": [
    "# -*- coding: utf-8 -*-\n",
    "\"\"\"\n",
    "Created on Fri Aug 31 10:50:02 2018\n",
    "\n",
    "@author: Deepak.D, Canara Engineering College, Mangaluru\n",
    "\"\"\"\n",
    "\n",
    "import numpy as np\n",
    "X = np.array(([2, 9], [1, 5], [3, 6]), dtype=float) # two inputs [sleep,study]\n",
    "y = np.array(([92], [86], [89]), dtype=float) # one output [Expected % in Exams]\n",
    "X = X/np.amax(X,axis=0) # maximum of X array longitudinally\n",
    "y = y/100\n",
    "\n",
    "#Sigmoid Function\n",
    "def sigmoid (x):\n",
    "    return 1/(1 + np.exp(-x))\n",
    "\n",
    "#Derivative of Sigmoid Function\n",
    "def derivatives_sigmoid(x):\n",
    "    return x * (1 - x)\n",
    "\n",
    "#Variable initialization\n",
    "epoch=5000 \t#Setting training iterations\n",
    "lr=0.1 \t\t#Setting learning rate\n",
    "inputlayer_neurons = 2 \t\t#number of features in data set\n",
    "hiddenlayer_neurons = 3 \t#number of hidden layers neurons\n",
    "output_neurons = 1 \t\t#number of neurons at output layer\n",
    "\n",
    "#weight and bias initialization\n",
    "wh=np.random.uniform(size=(inputlayer_neurons,hiddenlayer_neurons)) #weight of the link from input node to hidden node\n",
    "bh=np.random.uniform(size=(1,hiddenlayer_neurons)) # bias of the link from input node to hidden node\n",
    "wout=np.random.uniform(size=(hiddenlayer_neurons,output_neurons)) #weight of the link from hidden node to output node\n",
    "bout=np.random.uniform(size=(1,output_neurons)) #bias of the link from hidden node to output node\n",
    "\n",
    "\n",
    "#draws a random range of numbers uniformly of dim x*y\n",
    "for i in range(epoch):\n",
    "\n",
    "#Forward Propogation\n",
    "    hinp1=np.dot(X,wh)\n",
    "    hinp=hinp1 + bh\n",
    "    hlayer_act = sigmoid(hinp)\n",
    "    outinp1=np.dot(hlayer_act,wout)\n",
    "    outinp= outinp1+ bout\n",
    "    output = sigmoid(outinp)\n",
    "\n",
    "#Backpropagation\n",
    "    EO = y-output\n",
    "    outgrad = derivatives_sigmoid(output)\n",
    "    d_output = EO* outgrad\n",
    "    EH = d_output.dot(wout.T)\n",
    "\n",
    "#how much hidden layer weights contributed to error\n",
    "    hiddengrad = derivatives_sigmoid(hlayer_act)\n",
    "    d_hiddenlayer = EH * hiddengrad\n",
    "\n",
    "# dotproduct of nextlayererror and currentlayerop\n",
    "wout += hlayer_act.T.dot(d_output) *lr\n",
    "     wh += X.T.dot(d_hiddenlayer) *lr\n",
    "\n",
    "print(\"Input: \\n\" + str(X)) \n",
    "print(\"Actual Output: \\n\" + str(y))\n",
    "print(\"Predicted Output: \\n\" ,output)\n"
   ]
  }
 ],
 "metadata": {
  "kernelspec": {
   "display_name": "Python 3",
   "language": "python",
   "name": "python3"
  },
  "language_info": {
   "codemirror_mode": {
    "name": "ipython",
    "version": 3
   },
   "file_extension": ".py",
   "mimetype": "text/x-python",
   "name": "python",
   "nbconvert_exporter": "python",
   "pygments_lexer": "ipython3",
   "version": "3.7.2"
  }
 },
 "nbformat": 4,
 "nbformat_minor": 2
}
