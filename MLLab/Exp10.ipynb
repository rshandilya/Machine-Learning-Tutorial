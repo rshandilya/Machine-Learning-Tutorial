{
 "cells": [
  {
   "cell_type": "markdown",
   "metadata": {},
   "source": [
    "## Program\n",
    "\n",
    "**Implement the non-parametric Locally Weighted Regression algorithm in order\n",
    "to fit data points. Select appropriate data set for your experiment and draw\n",
    "graphs.**"
   ]
  },
  {
   "cell_type": "code",
   "execution_count": null,
   "metadata": {},
   "outputs": [],
   "source": [
    "import numpy as np\n",
    "from bokeh.plotting import figure, show, output_notebook\n",
    "from bokeh.layouts import gridplot\n",
    "from bokeh.io import push_notebook\n",
    "\n",
    "def local_regression(x0, X, Y, tau):# add bias term\n",
    "    x0 = np.r_[1, x0] # Add one to avoid the loss in information\n",
    "    X = np.c_[np.ones(len(X)), X]\n",
    "    # fit model: normal equations with kernel\n",
    "    xw = X.T * radial_kernel(x0, X, tau) # XTranspose * W\n",
    "    beta = np.linalg.pinv(xw @ X) @ xw @ Y #@ Matrix Multiplication or Dot Product\n",
    "    # predict value\n",
    "    return x0 @ beta # @ Matrix Multiplication or Dot Product for prediction\n",
    "\n",
    "\n",
    "def radial_kernel(x0, X, tau):\n",
    "    return np.exp(np.sum((X - x0) ** 2, axis=1) / (-2 * tau * tau))\n",
    "# Weight or Radial Kernal Bias Function\n",
    "\n",
    "n = 1000\n",
    "# generate dataset\n",
    "X = np.linspace(-3, 3, num=n)\n",
    "print(\"The Data Set ( 10 Samples) X :\\n\",X[1:10])\n",
    "Y = np.log(np.abs(X ** 2 - 1) + .5)\n",
    "print(\"The Fitting Curve Data Set (10 Samples) Y :\\n\",Y[1:10])\n",
    "# jitter X\n",
    "X += np.random.normal(scale=.1, size=n)\n",
    "print(\"Normalised (10 Samples) X :\\n\",X[1:10])\n",
    "\n",
    "domain = np.linspace(-3, 3, num=300)\n",
    "print(\" Xo Domain Space(10 Samples) :\\n\",domain[1:10])\n",
    "\n",
    "def plot_lwr(tau):\n",
    "    # prediction through regression\n",
    "    prediction = [local_regression(x0, X, Y, tau) for x0 in domain]\n",
    "    plot = figure(plot_width=400, plot_height=400)\n",
    "    plot.title.text='tau=%g' % tau\n",
    "    plot.scatter(X, Y, alpha=.3)\n",
    "    plot.line(domain, prediction, line_width=2, color='red')\n",
    "    return plot\n",
    "\n",
    "show(gridplot([\n",
    " [plot_lwr(10.), plot_lwr(1.)],\n",
    " [plot_lwr(0.1), plot_lwr(0.01)]]))"
   ]
  }
 ],
 "metadata": {
  "kernelspec": {
   "display_name": "Python 3",
   "language": "python",
   "name": "python3"
  },
  "language_info": {
   "codemirror_mode": {
    "name": "ipython",
    "version": 3
   },
   "file_extension": ".py",
   "mimetype": "text/x-python",
   "name": "python",
   "nbconvert_exporter": "python",
   "pygments_lexer": "ipython3",
   "version": "3.7.2"
  }
 },
 "nbformat": 4,
 "nbformat_minor": 2
}
